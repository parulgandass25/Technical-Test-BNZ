{
 "cells": [
  {
   "cell_type": "markdown",
   "id": "e9942fec",
   "metadata": {},
   "source": [
    "# Technical TEST\n",
    "## Parul \n",
    "## parulgandass25@gmail.com"
   ]
  },
  {
   "cell_type": "markdown",
   "id": "e0a3afd9",
   "metadata": {},
   "source": [
    "To import the data from the provided URL and perform the requested analysis, We are using a Jupyter Notebook with Python and SQL capabilities. \n",
    "\n",
    "Below code retrieves the data from the provided URL using Pandas, filters out the countries with more than 2 million cases, and then creates a SQLite in-memory database to store the filtered data. It then performs an SQL query to group the data by WHO Region and Country, calculating the rolling 7-day (weekly) window for cases and deaths."
   ]
  },
  {
   "cell_type": "code",
   "execution_count": 1,
   "id": "e1be1f27",
   "metadata": {},
   "outputs": [],
   "source": [
    "%matplotlib widget\n",
    "import pandas as pd\n",
    "import numpy as np \n",
    "import sqlite3\n",
    "import matplotlib.pyplot as plt\n",
    "import ipywidgets as widgets\n",
    "import plotly.graph_objs as go"
   ]
  },
  {
   "cell_type": "code",
   "execution_count": 2,
   "id": "cbb7b7f6",
   "metadata": {},
   "outputs": [],
   "source": [
    "#Let's start by retrieving the data and creating the necessary table.\n",
    "# Reading the data from the URL\n",
    "url = \"https://covid19.who.int/WHO-COVID-19-global-data.csv\"\n",
    "data = pd.read_csv(url)\n",
    "\n",
    "#List of countries with more than 2 million cases in total\n",
    "country_set = list(set(data[data['Cumulative_cases'] > 2e6]['Country']))\n",
    "\n",
    "# data of countries with more than 2 million cases in total \n",
    "df = data[data['Country'].isin(country_set)]\n",
    "df = df.reset_index(drop=True)"
   ]
  },
  {
   "cell_type": "code",
   "execution_count": 3,
   "id": "5a431c97",
   "metadata": {},
   "outputs": [
    {
     "data": {
      "text/plain": [
       "56626"
      ]
     },
     "execution_count": 3,
     "metadata": {},
     "output_type": "execute_result"
    }
   ],
   "source": [
    "# Creating a SQLite in-memory database and table \"covid_data\" that groups the data by WHO Region and Country and \n",
    "#generates a rolling 7 day window of cases and deaths, for those countries with more than 2 million cases in total.\n",
    "conn = sqlite3.connect(\":memory:\")\n",
    "df.to_sql(\"covid_data\", conn, index=False)\n"
   ]
  },
  {
   "cell_type": "code",
   "execution_count": 4,
   "id": "4ab26ba7",
   "metadata": {},
   "outputs": [],
   "source": [
    "# Defining the SQL query to group data by WHO Region and Country with a rolling 7-day (weekly) window\n",
    "query = \"\"\"\n",
    "SELECT\n",
    "    Country,\n",
    "    WHO_region,\n",
    "    min(Date_reported) Report_WeekStart,\n",
    "    max(Date_reported) Report_WeekEnd,\n",
    "    SUM(New_cases) as total_new_cases_7_day_window,\n",
    "    SUM(New_deaths) as total_new_deaths_7_day_window,\n",
    "    MAX(Cumulative_cases) as Cumulative_cases,\n",
    "    MAX(Cumulative_deaths) as Cumulative_deaths\n",
    "FROM covid_data\n",
    "GROUP BY WHO_region,\n",
    "    Country,strftime('%W', Date_reported), strftime('%Y', Date_reported)\n",
    "ORDER BY Country, strftime('%Y', Date_reported), strftime('%W', Date_reported);\n",
    "\"\"\""
   ]
  },
  {
   "cell_type": "code",
   "execution_count": 5,
   "id": "b7f0c619",
   "metadata": {},
   "outputs": [],
   "source": [
    "# Execute the query and retrieve the results\n",
    "results = pd.read_sql_query(query, conn)"
   ]
  },
  {
   "cell_type": "code",
   "execution_count": 6,
   "id": "fb85848a",
   "metadata": {},
   "outputs": [
    {
     "data": {
      "text/html": [
       "<div>\n",
       "<style scoped>\n",
       "    .dataframe tbody tr th:only-of-type {\n",
       "        vertical-align: middle;\n",
       "    }\n",
       "\n",
       "    .dataframe tbody tr th {\n",
       "        vertical-align: top;\n",
       "    }\n",
       "\n",
       "    .dataframe thead th {\n",
       "        text-align: right;\n",
       "    }\n",
       "</style>\n",
       "<table border=\"1\" class=\"dataframe\">\n",
       "  <thead>\n",
       "    <tr style=\"text-align: right;\">\n",
       "      <th></th>\n",
       "      <th>Country</th>\n",
       "      <th>WHO_region</th>\n",
       "      <th>Report_WeekStart</th>\n",
       "      <th>Report_WeekEnd</th>\n",
       "      <th>total_new_cases_7_day_window</th>\n",
       "      <th>total_new_deaths_7_day_window</th>\n",
       "      <th>Cumulative_cases</th>\n",
       "      <th>Cumulative_deaths</th>\n",
       "    </tr>\n",
       "  </thead>\n",
       "  <tbody>\n",
       "    <tr>\n",
       "      <th>0</th>\n",
       "      <td>Argentina</td>\n",
       "      <td>AMRO</td>\n",
       "      <td>2020-01-03</td>\n",
       "      <td>2020-01-05</td>\n",
       "      <td>0</td>\n",
       "      <td>0</td>\n",
       "      <td>0</td>\n",
       "      <td>0</td>\n",
       "    </tr>\n",
       "    <tr>\n",
       "      <th>1</th>\n",
       "      <td>Argentina</td>\n",
       "      <td>AMRO</td>\n",
       "      <td>2020-01-06</td>\n",
       "      <td>2020-01-12</td>\n",
       "      <td>0</td>\n",
       "      <td>0</td>\n",
       "      <td>0</td>\n",
       "      <td>0</td>\n",
       "    </tr>\n",
       "    <tr>\n",
       "      <th>2</th>\n",
       "      <td>Argentina</td>\n",
       "      <td>AMRO</td>\n",
       "      <td>2020-01-13</td>\n",
       "      <td>2020-01-19</td>\n",
       "      <td>0</td>\n",
       "      <td>0</td>\n",
       "      <td>0</td>\n",
       "      <td>0</td>\n",
       "    </tr>\n",
       "    <tr>\n",
       "      <th>3</th>\n",
       "      <td>Argentina</td>\n",
       "      <td>AMRO</td>\n",
       "      <td>2020-01-20</td>\n",
       "      <td>2020-01-26</td>\n",
       "      <td>0</td>\n",
       "      <td>0</td>\n",
       "      <td>0</td>\n",
       "      <td>0</td>\n",
       "    </tr>\n",
       "    <tr>\n",
       "      <th>4</th>\n",
       "      <td>Argentina</td>\n",
       "      <td>AMRO</td>\n",
       "      <td>2020-01-27</td>\n",
       "      <td>2020-02-02</td>\n",
       "      <td>0</td>\n",
       "      <td>0</td>\n",
       "      <td>0</td>\n",
       "      <td>0</td>\n",
       "    </tr>\n",
       "    <tr>\n",
       "      <th>...</th>\n",
       "      <td>...</td>\n",
       "      <td>...</td>\n",
       "      <td>...</td>\n",
       "      <td>...</td>\n",
       "      <td>...</td>\n",
       "      <td>...</td>\n",
       "      <td>...</td>\n",
       "      <td>...</td>\n",
       "    </tr>\n",
       "    <tr>\n",
       "      <th>8275</th>\n",
       "      <td>Viet Nam</td>\n",
       "      <td>WPRO</td>\n",
       "      <td>2023-04-17</td>\n",
       "      <td>2023-04-23</td>\n",
       "      <td>12704</td>\n",
       "      <td>1</td>\n",
       "      <td>11543060</td>\n",
       "      <td>43187</td>\n",
       "    </tr>\n",
       "    <tr>\n",
       "      <th>8276</th>\n",
       "      <td>Viet Nam</td>\n",
       "      <td>WPRO</td>\n",
       "      <td>2023-04-24</td>\n",
       "      <td>2023-04-30</td>\n",
       "      <td>16802</td>\n",
       "      <td>1</td>\n",
       "      <td>11559862</td>\n",
       "      <td>43188</td>\n",
       "    </tr>\n",
       "    <tr>\n",
       "      <th>8277</th>\n",
       "      <td>Viet Nam</td>\n",
       "      <td>WPRO</td>\n",
       "      <td>2023-05-01</td>\n",
       "      <td>2023-05-07</td>\n",
       "      <td>14069</td>\n",
       "      <td>8</td>\n",
       "      <td>11573931</td>\n",
       "      <td>43196</td>\n",
       "    </tr>\n",
       "    <tr>\n",
       "      <th>8278</th>\n",
       "      <td>Viet Nam</td>\n",
       "      <td>WPRO</td>\n",
       "      <td>2023-05-08</td>\n",
       "      <td>2023-05-14</td>\n",
       "      <td>15636</td>\n",
       "      <td>5</td>\n",
       "      <td>11589567</td>\n",
       "      <td>43201</td>\n",
       "    </tr>\n",
       "    <tr>\n",
       "      <th>8279</th>\n",
       "      <td>Viet Nam</td>\n",
       "      <td>WPRO</td>\n",
       "      <td>2023-05-15</td>\n",
       "      <td>2023-05-17</td>\n",
       "      <td>1050</td>\n",
       "      <td>0</td>\n",
       "      <td>11590617</td>\n",
       "      <td>43201</td>\n",
       "    </tr>\n",
       "  </tbody>\n",
       "</table>\n",
       "<p>8280 rows × 8 columns</p>\n",
       "</div>"
      ],
      "text/plain": [
       "        Country WHO_region Report_WeekStart Report_WeekEnd  \\\n",
       "0     Argentina       AMRO       2020-01-03     2020-01-05   \n",
       "1     Argentina       AMRO       2020-01-06     2020-01-12   \n",
       "2     Argentina       AMRO       2020-01-13     2020-01-19   \n",
       "3     Argentina       AMRO       2020-01-20     2020-01-26   \n",
       "4     Argentina       AMRO       2020-01-27     2020-02-02   \n",
       "...         ...        ...              ...            ...   \n",
       "8275   Viet Nam       WPRO       2023-04-17     2023-04-23   \n",
       "8276   Viet Nam       WPRO       2023-04-24     2023-04-30   \n",
       "8277   Viet Nam       WPRO       2023-05-01     2023-05-07   \n",
       "8278   Viet Nam       WPRO       2023-05-08     2023-05-14   \n",
       "8279   Viet Nam       WPRO       2023-05-15     2023-05-17   \n",
       "\n",
       "      total_new_cases_7_day_window  total_new_deaths_7_day_window  \\\n",
       "0                                0                              0   \n",
       "1                                0                              0   \n",
       "2                                0                              0   \n",
       "3                                0                              0   \n",
       "4                                0                              0   \n",
       "...                            ...                            ...   \n",
       "8275                         12704                              1   \n",
       "8276                         16802                              1   \n",
       "8277                         14069                              8   \n",
       "8278                         15636                              5   \n",
       "8279                          1050                              0   \n",
       "\n",
       "      Cumulative_cases  Cumulative_deaths  \n",
       "0                    0                  0  \n",
       "1                    0                  0  \n",
       "2                    0                  0  \n",
       "3                    0                  0  \n",
       "4                    0                  0  \n",
       "...                ...                ...  \n",
       "8275          11543060              43187  \n",
       "8276          11559862              43188  \n",
       "8277          11573931              43196  \n",
       "8278          11589567              43201  \n",
       "8279          11590617              43201  \n",
       "\n",
       "[8280 rows x 8 columns]"
      ]
     },
     "execution_count": 6,
     "metadata": {},
     "output_type": "execute_result"
    }
   ],
   "source": [
    "#below is the content of the new table created\n",
    "results"
   ]
  },
  {
   "cell_type": "markdown",
   "id": "1bd856ae",
   "metadata": {},
   "source": [
    "# Data Exploration"
   ]
  },
  {
   "cell_type": "markdown",
   "id": "8920901f",
   "metadata": {},
   "source": [
    "## Chart 1: Cases vs Deaths for Countries with more than 2 million cases"
   ]
  },
  {
   "cell_type": "code",
   "execution_count": 7,
   "id": "88956e9e",
   "metadata": {},
   "outputs": [],
   "source": [
    "# !pip3 install ipywidgets --user\n",
    "# ! pip3 install ipympl --user\n",
    "# conda install -c conda-forge ipympl"
   ]
  },
  {
   "cell_type": "code",
   "execution_count": 8,
   "id": "4f76c1de",
   "metadata": {},
   "outputs": [],
   "source": [
    "# ! jupyter nbextension enable --py --sys-prefix widgetsnbextension\n",
    "# ! jupyter nbextension install --py --symlink --sys-prefix ipympl"
   ]
  },
  {
   "cell_type": "code",
   "execution_count": 9,
   "id": "7d48cf84",
   "metadata": {},
   "outputs": [
    {
     "data": {
      "text/plain": [
       "'/Users/parulgandass/anaconda3/bin/python'"
      ]
     },
     "execution_count": 9,
     "metadata": {},
     "output_type": "execute_result"
    }
   ],
   "source": [
    "import sys\n",
    "sys.executable"
   ]
  },
  {
   "cell_type": "code",
   "execution_count": 10,
   "id": "4a1f25cc",
   "metadata": {},
   "outputs": [
    {
     "name": "stdout",
     "output_type": "stream",
     "text": [
      "# packages in environment at /Users/parulgandass/anaconda3:\r\n",
      "#\r\n",
      "# Name                    Version                   Build  Channel\r\n",
      "ipympl                    0.9.3              pyhd8ed1ab_0    conda-forge\r\n"
     ]
    }
   ],
   "source": [
    "!conda list ipympl"
   ]
  },
  {
   "cell_type": "code",
   "execution_count": 11,
   "id": "09294359",
   "metadata": {},
   "outputs": [
    {
     "data": {
      "application/vnd.jupyter.widget-view+json": {
       "model_id": "58a38cbabad7460bbedb20eb0f02de8d",
       "version_major": 2,
       "version_minor": 0
      },
      "text/plain": [
       "interactive(children=(SelectMultiple(description='Country', index=(0,), options=('All', 'Argentina', 'Australi…"
      ]
     },
     "metadata": {},
     "output_type": "display_data"
    },
    {
     "data": {
      "text/plain": [
       "<function __main__.chart(country)>"
      ]
     },
     "execution_count": 11,
     "metadata": {},
     "output_type": "execute_result"
    }
   ],
   "source": [
    "\n",
    "# Generate the chart line chart for Cases vs Deaths for Countries with more than 2 million cases\n",
    "\n",
    "country_list = country_set + ['All']    #list of countries with more than 2 million cases (options for user to select from)\n",
    "\n",
    "#defining a function to generate the chart\n",
    "def chart(country):\n",
    "    \n",
    "    fig = plt.figure(figsize=(10, 6))\n",
    "    # if customer doesn't want the info about all countries, show data for selected countries only\n",
    "    if 'All' not in country:\n",
    "        df1 = df[df['Country'].isin(country)]              #filtering data for selected countries only\n",
    "        \n",
    "    else:\n",
    "        df1 = df                                           #else show data about all countries\n",
    "        \n",
    "    #generating the plot by countries with labels and legends\n",
    "    for group,records in df1.groupby('Country'):\n",
    "        plt.plot(records['Cumulative_cases'],records['Cumulative_deaths'], label = group)\n",
    "    plt.xlabel('Cases (7-day window)')\n",
    "    plt.ylabel('Deaths (7-day window)')\n",
    "    plt.title('COVID-19: Cases vs Deaths (Countries with >2M cases)')\n",
    "    plt.grid(True)\n",
    "    plt.legend()\n",
    "    plt.show()\n",
    "    \n",
    "    \n",
    "#use below dropdown to select countries. Multiple values can be selected with shift and/or ctrl (or command) \n",
    "#pressed and mouse clicks or arrow keys.\n",
    "multi = widgets.SelectMultiple(\n",
    "    options= sorted(country_list),\n",
    "    value=['All'],\n",
    "    description='Country',\n",
    "#     disabled=False\n",
    ")\n",
    "\n",
    "widgets.interact(chart, country = multi)\n",
    "\n"
   ]
  },
  {
   "cell_type": "markdown",
   "id": "5db84a79",
   "metadata": {},
   "source": [
    "The above chart helps compare the relationship between cases and deaths differs across different countries with more than 2 million cases. It provides an overview of the mortality rate and allows for identifying trends. Each line represents a country, and the position of each point on the line indicates the total number of cases and total corresponding deaths. The lines are colored based on their respective Country. The slop of the line gives information about the mortality rate. Lines closer to x-axis shows lower number of deaths with increasing number of cases whereas countries with line closer to y-axis were heavily affected by COVID-19 with highest death rate.\n",
    "\n",
    "Let us take example of 2 countries Italy and Japan for better understanding. This visualization provides insights into how severly both the countries were affected. As dipicted above, Line graph for Japan is much below Italy, which reveals that Japan have experienced a significant number of cases but relatively low mortality, indicating potential differences in healthcare systems, demographics, or other factors influencing outcomes. \n",
    "The vertical grid lines indicates difference in total number of death with same number of total cases in both the countries. Following the third vertical grid line, when total cases reported for both Japan and Italy had reached approx 10,000,000 at some point of time, the corresponding total deaths were approx 30000 and 145000respectively.\n",
    "\n",
    "Note - Multiple values can be selected with shift and/or ctrl (or command) pressed and mouse clicks or arrow keys. Select Italy and Japan for refrence.\n",
    "\n",
    "\n",
    "The line plot is effective in representing the correlation between cases and deaths for individual countries. It helps identify countries that deviate from the overall trend and provides insights into the severity of the situation in different nations. \n"
   ]
  },
  {
   "cell_type": "markdown",
   "id": "0d39b1ac",
   "metadata": {},
   "source": [
    "## Chart 2: Compares Cases vs Deaths by WHO Region"
   ]
  },
  {
   "cell_type": "code",
   "execution_count": 13,
   "id": "bd2278c5",
   "metadata": {},
   "outputs": [
    {
     "data": {
      "application/vnd.jupyter.widget-view+json": {
       "model_id": "30b1bfbada5b47a5b9538a52735582c3",
       "version_major": 2,
       "version_minor": 0
      },
      "text/plain": [
       "interactive(children=(Dropdown(description='Region', options=('ALL', 'AFRO', 'AMRO', 'SEARO', 'EURO', 'EMRO', …"
      ]
     },
     "metadata": {},
     "output_type": "display_data"
    },
    {
     "data": {
      "text/plain": [
       "<function __main__.stack(Region, Type)>"
      ]
     },
     "execution_count": 13,
     "metadata": {},
     "output_type": "execute_result"
    }
   ],
   "source": [
    "data['Month_Year'] = data.Date_reported.apply(lambda x: x[:7])\n",
    "monthly = data.groupby(['WHO_region','Month_Year']).agg({'New_cases':'sum','New_deaths':'sum'}).reset_index()\n",
    "count = data.groupby(['Country','WHO_region']).agg({'New_cases':'sum','New_deaths':'sum'}).reset_index()\n",
    "allreg = data.groupby(['WHO_region']).agg({'New_cases':'sum','New_deaths':'sum'}).reset_index()\n",
    "\n",
    "\n",
    "def stack(Region, Type):\n",
    "    fig = plt.figure(figsize=(10, 6))\n",
    "    # if region = all, use data grouped by region for the bar plot\n",
    "    if Region == 'ALL':\n",
    "        dt = allreg\n",
    "        y = 'WHO_region'       \n",
    "        \n",
    "    #else use data on for selected region and group by based in requirement (country or timeperiod/month)\n",
    "    else:\n",
    "        if Type == 'Country':\n",
    "            dt = count[count['WHO_region']==Region]\n",
    "            y = 'Country'\n",
    "        else:\n",
    "            dt = monthly[monthly['WHO_region']==Region]\n",
    "            y = 'Month_Year'\n",
    "        \n",
    "    dt = dt[[y,'New_cases','New_deaths']]\n",
    "\n",
    "    ax = fig.add_subplot(111) # Create matplotlib axes\n",
    "    ax2 = ax.twinx() # Create another axes that shares the same x-axis as ax.\n",
    "\n",
    "\n",
    "    dt.New_cases.plot(x=y, kind='bar', color='pink', ax=ax, width=0.4,label = 'Total Cases', position=1)\n",
    "#     if Region == 'ALL' or Type == 'Country':\n",
    "    dt.New_deaths.plot(x=y, kind='bar', color='cyan', ax=ax2, width=0.4,label = 'Total Deaths', position=0)\n",
    "        \n",
    "#     else:\n",
    "#     dt.New_deaths.plot(x=y, color='blue', ax=ax2, label = 'Total Deaths')\n",
    "\n",
    "    ax.set_ylabel('Cases')\n",
    "    ax2.set_ylabel('Deaths')\n",
    "    \n",
    "    ax.set_xticklabels(dt[y])\n",
    "    \n",
    "    # ask matplotlib for the plotted objects and their labels\n",
    "    lines, labels = ax.get_legend_handles_labels()\n",
    "    lines2, labels2 = ax2.get_legend_handles_labels()\n",
    "    ax2.legend(lines + lines2, labels + labels2, loc=0)\n",
    "    plt.title(' Comparing Cases and Deaths by ' + Region + ' Region')\n",
    "    plt.show()\n",
    "    \n",
    "#button for selection of tyoe of distribution for each region data   \n",
    "ty = widgets.ToggleButtons(\n",
    "    options=['Time', 'Country'],\n",
    "    description='Distribution',\n",
    "    tooltips=['Total New Cases/Deaths in each Country', 'Total Cases/Deaths each month'],\n",
    "\n",
    ")\n",
    "    \n",
    "widgets.interact(stack, Region = (['ALL'] + list(set(data['WHO_region']))) ,Type = ty)\n",
    "# stack('EMRO','New')"
   ]
  },
  {
   "cell_type": "markdown",
   "id": "ab350d72",
   "metadata": {},
   "source": [
    "This visualization allows for a regional comparison of the relationship between cases and deaths. The bar chart provides a visual representation of the total number of COVID-19 cases reported and deaths by WHO Region. It allows for easy comparison between regions, identify regions that have been more severely impacted by the virus and provides insights into the effectiveness of regional response strategies. It helps identify regions that may have a higher or lower death rate relative to the number of cases reported. The color coding facilitates the comparison between cases and deaths and enables us to identify potential patterns or discrepancies.\n",
    "\n",
    "The initial bar graph represents total number or cases and deaths as 2 combined bars for each region, with cases on left scale and deaths on right scale. Reading the above gragh, it is safe to say that EURO was the most spread region with highest number of reported cases whereas AMRO appears to be most affected with highest number of deaths. The difference between the hight of pink and blue bar for AFRO, EMRO and SEARO appears to be similar, representing they have had similar impact in terms deaths relative to the number of cases. Based on the above visualisation WPRO seem to have manages the situation best with lowest mortality rate (highest positive gap between two bars).\n",
    "\n",
    "We also have option to have a closer look at each region. Selecting a particular region with Time distribution, the bar allows us to observe any regional pattern/variations with time in the impact of COVID-19. Let's compare the cases vs deaths distribution for SEARO region with time. The first Covid-19 wave appears to hit the region May 2020 till Jan 2021 with highest impact during september 2020. later, the impact of second wave was sudden and sever during the mid of year 2021 with highest number of cases and deaths. Moving on, the thrid wave hit the region during early 2022 but region appears to have effective response strategies resulting in comparatively lower mortality rate.\n",
    "\n",
    "The visualisation also provides insights into the country-wise distribution within a region. For example, within EURO region, France and germany have had the highest number of cases, But the positive difference between the pink and blue bar for both countries shows their effective response strategies and with comparatively low mortality rate. Whereas, Russia Federation have the highest death rate with maximum negative differnce between pink and blue bar.\n",
    "\n",
    "Note: \n",
    "    \n",
    "    Posotive difference - Pink bar higher than Blue bar\n",
    "      \n",
    "    Negative difference - Blur bar higher than Pink bar"
   ]
  },
  {
   "cell_type": "markdown",
   "id": "f560f0f3",
   "metadata": {},
   "source": [
    "## Why each chart type might or might not be better than the others in each situation\n",
    "\n",
    "The choice between chart types depends on the specific analysis objectives and the information you want to convey. Let's discuss the suitability of each chart type in the given situations:\n",
    "\n",
    "- **Cases vs Deaths for Countries with more than 2 million cases**: The line plot is effective in representing the relationship between cases and deaths for individual countries (correlation between two variables). It helps identify countries that deviate from the overall trend and provides insights into the severity of the situation in different nations. \n",
    "\n",
    "    Line graphs provide an excellent way to map dependent variables that are both quantitative. When both variables are quantitative, the line segment that connects two points on the graph expresses a slope, which can be interpreted visually relative to the slope of other lines. This chart type allows for direct comparison between the number of cases and deaths for individual countries.\n",
    "\n",
    "    Multiple line graphs have space-saving characteristics over a comparable grouped bar graph. Because the data values are marked by small marks (points) and not bars, they do not have to be offset from each other. \n",
    "    \n",
    "    The bar chart might become cluttered with the large number of countries. It might also be challenging to visualize the trends for each country.\n",
    "    \n",
    ". \n",
    "\n",
    "- **Compare Cases vs Deaths by WHO Region**: This double axis bar plot with allows for a comparison of cases vs death and the overall impact of COVID-19 across different regions. It helps identify regional patterns and differences in the relationship between cases and deaths with time.\n",
    "\n",
    "    Bar graphs are better for comparing larger changes or differences in data among groups. Bar graphs are best to compare things between different groups or to track changes over time. A line chart's primary variable is also numeric and continuous (WHO rehion is our scenario) which shows the connection between data points in one line instead of bars.\n",
    "\n",
    "    This chart type enables comparison between different WHO regions, providing an overview of the distribution of cases and deaths across regions. It can help identify regions with higher case or death counts and detect any regional disparities.\n",
    "\n",
    "Choosing the appropriate chart type depends on the nature of the data and the specific insights you want to convey. Both chart types are suitable for their respective situations because they emphasize different aspects of the data. The first chart focuses on individual countries, highlighting outliers and individual country characteristics, while the second chart emphasizes regional differences and patterns."
   ]
  },
  {
   "cell_type": "markdown",
   "id": "bc21bc72",
   "metadata": {},
   "source": [
    "## Chart 3: Case Fatality Rate (CFR) for each Country"
   ]
  },
  {
   "cell_type": "code",
   "execution_count": 21,
   "id": "c8fa447a",
   "metadata": {},
   "outputs": [
    {
     "data": {
      "application/vnd.jupyter.widget-view+json": {
       "model_id": "38d1765052444c3f85f94efbf49f9ce0",
       "version_major": 2,
       "version_minor": 0
      },
      "text/plain": [
       "interactive(children=(Dropdown(description='Type', options=('Case Fatality Rate', 'Total Cases', 'Total Deaths…"
      ]
     },
     "metadata": {},
     "output_type": "display_data"
    },
    {
     "data": {
      "text/plain": [
       "<function __main__.chloro(Type, View)>"
      ]
     },
     "execution_count": 21,
     "metadata": {},
     "output_type": "execute_result"
    }
   ],
   "source": [
    "\n",
    "#groupby data by country and get total case count and deaths \n",
    "df1 = data.groupby(['Country']).agg({'New_cases':'sum','New_deaths':'sum'}).reset_index()\n",
    "\n",
    "#Calculate the case fatality rate (CFR) for each country by \n",
    "#dividing the total deaths by the total cases and multiplying by 100.\n",
    "df1['Case Fatality Rate'] = (df1['New_deaths'] / df1['New_cases']) * 100\n",
    "\n",
    "#renaming column names\n",
    "df1 = df1.rename(columns={'New_cases': 'Total Cases', 'New_deaths': 'Total Deaths'})\n",
    "\n",
    "\n",
    "#function to plot chloropleth map\n",
    "def chloro(Type, View):\n",
    "    choropleth_map = go.Figure(\n",
    "        data = {\n",
    "            'type':'choropleth',\n",
    "            'locations':df1['Country'],\n",
    "            'locationmode':'country names',\n",
    "            'colorscale':'rdbu',\n",
    "            'z':df1[Type],\n",
    "            'colorbar':{'title':Type},\n",
    "            'marker': {\n",
    "                'line': {\n",
    "                    'color':'rgb(255,255,255)',\n",
    "                    'width':2\n",
    "                }\n",
    "            }\n",
    "        },     \n",
    "        layout = {      \n",
    "          'geo':{\n",
    "              'projection':{\n",
    "                  'type': View \n",
    "              },\n",
    "              'scope':'world', \n",
    "          }  \n",
    "        })\n",
    "    return choropleth_map\n",
    "\n",
    "#radio button for the type of View options\n",
    "view = widgets.RadioButtons(\n",
    "    options=['orthographic','equirectangular'],\n",
    "    description='View'\n",
    "\n",
    ")\n",
    "    \n",
    "widgets.interact(chloro, Type = ['Case Fatality Rate','Total Cases','Total Deaths'], View = view)\n"
   ]
  },
  {
   "cell_type": "markdown",
   "id": "163ab71b",
   "metadata": {},
   "source": [
    "This visualization highlights countries with higher mortality rates relative to their total case counts and reveal geographical patterns in fatality rates. We can identify countries with the highest death rates in relation to their total number of cases. It helps identify countries where the virus has had a higher impact on mortality compared to the number of cases. It showcases countries where the mortality rate has been particularly high compared to the number of cases. It draws attention to the countries facing challenges in managing the impact of the virus on public health.\n",
    "\n",
    "We have two options to view the geographical area. Countries are coloured relative to the fatality rate. Dark blue colour represents high fatality rate, as the colour lightens converting to red fatality rate goes dowm. Darker the red, lowere the fataality rate of the country. From the above visualisation, it is safe to say Yemen is one of the highest fatality rate country whereas, China comparatively has very low fatality rate. Comparing India and Australia, Australia is darker red than India, depicting lowere fatality rate than India.\n",
    "\n",
    "We can also highligh countries based on total case counts or deaths using the above widget. USA appears to have highest number of case count followed by China. USA also have the highest number of death count followed by Brazil. It shows the variation in the total number of cases and deaths across different countries, providing insights into the geographical spread of the pandemic.\n"
   ]
  },
  {
   "cell_type": "markdown",
   "id": "310270e5",
   "metadata": {},
   "source": [
    "## Chart 4: Comparing Cases and Deaths with time period for each Country"
   ]
  },
  {
   "cell_type": "code",
   "execution_count": 19,
   "id": "20c29358",
   "metadata": {},
   "outputs": [
    {
     "data": {
      "application/vnd.jupyter.widget-view+json": {
       "model_id": "28ff3ebb4162483f8feea7d374101b5a",
       "version_major": 2,
       "version_minor": 0
      },
      "text/plain": [
       "interactive(children=(Dropdown(description='Country', options=('Argentina', 'Australia', 'Austria', 'Banglades…"
      ]
     },
     "metadata": {},
     "output_type": "display_data"
    },
    {
     "data": {
      "text/plain": [
       "<function __main__.line(Country, Type, Data)>"
      ]
     },
     "execution_count": 19,
     "metadata": {},
     "output_type": "execute_result"
    }
   ],
   "source": [
    "# a rolling 7 day window of cases and deaths, for those countries with more than 2 million cases in total\n",
    "results = results.rename(columns={'total_new_cases_7_day_window':'New_cases', 'total_new_deaths_7_day_window':'New_deaths'})\n",
    "\n",
    "# Generate the chart based on requirements\n",
    "def line(Country, Type, Data):\n",
    "    \n",
    "#     plt.figure(figsize = (20,8))\n",
    "    plt.figure(figsize=(10, 6))\n",
    "    dt = results[results['Country']==Country]\n",
    "    plt.plot(dt['Report_WeekEnd'],dt[Type+'_'+Data.lower()], label = Country)\n",
    "        \n",
    "    plt.xticks(rotation = 90)\n",
    "    plt.xlabel('Time period')\n",
    "    plt.ylabel(Data)\n",
    "    plt.title('COVID-19: No of ' + Data + ' over the period of time in ' +Country)\n",
    "    plt.grid(True)\n",
    "    plt.legend()\n",
    "    plt.show()\n",
    "\n",
    "\n",
    "#button for selection of type of info (New or Cumulative)\n",
    "t = widgets.ToggleButtons(\n",
    "    options=['New','Cumulative'],\n",
    "    description='Type'\n",
    "\n",
    ")\n",
    "\n",
    "\n",
    "#button for selection of required data (cases or death)\n",
    "d = widgets.RadioButtons(\n",
    "    options=['Cases','Deaths'],\n",
    "    description='Data'\n",
    "\n",
    ")\n",
    "\n",
    "widgets.interact(line, Country = sorted(country_set), Type = t, Data = d)"
   ]
  },
  {
   "cell_type": "markdown",
   "id": "7b888945",
   "metadata": {},
   "source": [
    "This chart can help identify the periods of surges or declines in new or total cases/deaths and observe the overall trend for each country. It can provide insights into the effectiveness of containment measures and the impact of vaccination campaigns.\n",
    "\n",
    "Having a deeper look at the situation in India over the period, we can see 3 surges/waves. With 2nd wave resulting in the highest spread. Zoomin in on the first wave, it hit India during mid May 2020 with highest cases recorded during mid Sep 2020. Second wave has had the highest impact, with highest number cases recorded in 1st week of May 2021.\n",
    "\n",
    "Looking at the death count for India, second wave appears to have the most impact with highest number of deaths. Whereas, even though third wave has had quite high number of cases reported, India appears to have effective response strategies resulting in comparatively lower mortality rate.\n",
    "\n",
    "Note: \n",
    "\n",
    "    use the squar box (second button from bottom) in the left hand vertical tool bar widget to zoom in, click home button to zoom out."
   ]
  },
  {
   "cell_type": "markdown",
   "id": "14393539",
   "metadata": {},
   "source": [
    "# Conclusion\n",
    "## The data is very interesting\n",
    "\n",
    "- The data is interesting because it allows us to analyze the impact of COVID-19 across countries and regions. We can observe the variations in the number of cases and deaths and identify the most affected areas. By comparing the cases and deaths, we can gain insights into the severity of the disease and its impact on different parts of world.\n",
    "\n",
    "- This data reveals countries that have experienced a significant number of cases but relatively low mortality (or vice versa), indicating potential differences in healthcare systems, demographics, or other factors influencing outcomes.\n",
    "\n",
    "- The provided COVID-19 data offers valuable insights into the global impact of the virus. These visualizations provide different perspectives on the data and can help understand the trends, patterns, and variations in the COVID-19 situation across countries and WHO regions.\n",
    "\n",
    "- The data shows the variation in the total number of cases across different countries, providing insights into the geographical spread of the pandemic. It draws attention to the countries facing challenges in managing the impact of the virus on public health.\n",
    "\n",
    "- It allows us to compare the impact of the virus across different regions. It helps identify regions with higher or lower mortality rates relative to the number of cases, providing insights into potential variations in healthcare infrastructure, policies, and demographics.\n",
    "\n",
    "- By examining the data from multiple perspectives and visualizing it in different ways, we can gain a deeper understanding of the global COVID-19 situation and identify areas where further investigation or intervention may be needed."
   ]
  },
  {
   "cell_type": "markdown",
   "id": "10e54e21",
   "metadata": {},
   "source": [
    "# THANK YOU"
   ]
  }
 ],
 "metadata": {
  "kernelspec": {
   "display_name": "Python 3 (ipykernel)",
   "language": "python",
   "name": "python3"
  },
  "language_info": {
   "codemirror_mode": {
    "name": "ipython",
    "version": 3
   },
   "file_extension": ".py",
   "mimetype": "text/x-python",
   "name": "python",
   "nbconvert_exporter": "python",
   "pygments_lexer": "ipython3",
   "version": "3.10.9"
  }
 },
 "nbformat": 4,
 "nbformat_minor": 5
}
